{
 "cells": [
  {
   "cell_type": "code",
   "execution_count": null,
   "id": "6add1919",
   "metadata": {},
   "outputs": [],
   "source": [
    "from scapy.all import sniff, conf\n",
    "from scapy.layers.inet import IP, TCP, UDP\n",
    "\n",
    "def packet_callback(packet):\n",
    "    # Extract and display information for IP packets\n",
    "    if IP in packet:\n",
    "        ip_src = packet[IP].src\n",
    "        ip_dst = packet[IP].dst\n",
    "        protocol = packet[IP].proto\n",
    "        payload = str(packet[IP].payload).strip()\n",
    "\n",
    "        # Protocol mapping\n",
    "        protocol_map = {\n",
    "            1: 'ICMP',\n",
    "            6: 'TCP',\n",
    "            17: 'UDP',\n",
    "        }\n",
    "        protocol_name = protocol_map.get(protocol, 'Unknown')\n",
    "\n",
    "        print(f\"Source IP: {ip_src}\")\n",
    "        print(f\"Destination IP: {ip_dst}\")\n",
    "        print(f\"Protocol: {protocol_name}\")\n",
    "        print(f\"Payload: {payload[:50]}\")  # Display the first 50 characters of payload\n",
    "        print(\"-\" * 50)\n",
    "\n",
    "def start_sniffing(interface=None):\n",
    "    # Set Layer 3 socket (bypasses the need for Npcap)\n",
    "    conf.L3socket = conf.L3socket\n",
    "    # Start sniffing on the specified network interface or all interfaces\n",
    "    print(\"Starting packet capture...\")\n",
    "    sniff(iface=interface, prn=packet_callback, store=0)\n",
    "\n",
    "if __name__ == \"__main__\":\n",
    "    # Specify the network interface if needed, e.g., \"eth0\", \"wlan0\"\n",
    "    start_sniffing()\n"
   ]
  }
 ],
 "metadata": {
  "kernelspec": {
   "display_name": "Python 3 (ipykernel)",
   "language": "python",
   "name": "python3"
  },
  "language_info": {
   "codemirror_mode": {
    "name": "ipython",
    "version": 3
   },
   "file_extension": ".py",
   "mimetype": "text/x-python",
   "name": "python",
   "nbconvert_exporter": "python",
   "pygments_lexer": "ipython3",
   "version": "3.11.7"
  }
 },
 "nbformat": 4,
 "nbformat_minor": 5
}
